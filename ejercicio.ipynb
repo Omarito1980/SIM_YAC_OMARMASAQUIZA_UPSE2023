{
  "nbformat": 4,
  "nbformat_minor": 0,
  "metadata": {
    "colab": {
      "provenance": [],
      "authorship_tag": "ABX9TyM+Ws9d9zk+YDkEcKOg8LqG",
      "include_colab_link": true
    },
    "kernelspec": {
      "name": "python3",
      "display_name": "Python 3"
    },
    "language_info": {
      "name": "python"
    }
  },
  "cells": [
    {
      "cell_type": "markdown",
      "metadata": {
        "id": "view-in-github",
        "colab_type": "text"
      },
      "source": [
        "<a href=\"https://colab.research.google.com/github/Omarito1980/SIM_YAC_OMARMASAQUIZA_UPSE2023/blob/main/ejercicio.ipynb\" target=\"_parent\"><img src=\"https://colab.research.google.com/assets/colab-badge.svg\" alt=\"Open In Colab\"/></a>"
      ]
    },
    {
      "cell_type": "code",
      "execution_count": 1,
      "metadata": {
        "id": "AcooAMqw_U68"
      },
      "outputs": [],
      "source": [
        "#hola mundo\n"
      ]
    }
  ]
}