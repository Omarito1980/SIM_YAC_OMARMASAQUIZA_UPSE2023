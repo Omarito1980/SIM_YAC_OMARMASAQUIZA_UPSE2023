{
  "nbformat": 4,
  "nbformat_minor": 0,
  "metadata": {
    "colab": {
      "provenance": [],
      "authorship_tag": "ABX9TyOPQ5DzQmLDrk6//RRFAOwm",
      "include_colab_link": true
    },
    "kernelspec": {
      "name": "python3",
      "display_name": "Python 3"
    },
    "language_info": {
      "name": "python"
    }
  },
  "cells": [
    {
      "cell_type": "markdown",
      "metadata": {
        "id": "view-in-github",
        "colab_type": "text"
      },
      "source": [
        "<a href=\"https://colab.research.google.com/github/Omarito1980/SIM_YAC_OMARMASAQUIZA_UPSE2023/blob/main/Untitled6.ipynb\" target=\"_parent\"><img src=\"https://colab.research.google.com/assets/colab-badge.svg\" alt=\"Open In Colab\"/></a>"
      ]
    },
    {
      "cell_type": "code",
      "execution_count": 9,
      "metadata": {
        "colab": {
          "base_uri": "https://localhost:8080/"
        },
        "id": "zRuXWJkZjOb7",
        "outputId": "a6f3e984-127d-42b4-f32a-75f0ce115bd4"
      },
      "outputs": [
        {
          "output_type": "stream",
          "name": "stdout",
          "text": [
            "[1 1 1 1 1 1 1]\n"
          ]
        }
      ],
      "source": [
        "# Simulador de la ecuacion de difusividad 3\n",
        "import numpy as np\n",
        "import math\n",
        "L=1200 #distancia total \n",
        "dx=200 #delta x\n",
        "Distance=np.arange(0,L+1,dx) #Crear un vector de las distancias\n",
        "P01=np.ones_like(Distance) #Vector inical de Presiones \n",
        "print(P01)"
      ]
    },
    {
      "cell_type": "code",
      "source": [
        "PYac=4000\n",
        "PFrontd=0 #Frontera derecha\n",
        "PFronti=0 #Frontera izquierda\n",
        "Tiempo=360\n",
        "DT=10\n",
        "VectorTiempo=np.arange(0,math.floor(Tiempo/DT)*DT,DT)\n",
        "PXX=np.zeros((math.floor(Tiempo/DT),len(Distance)))\n",
        "Pdt=np.zeros_like(Distance)\n",
        "print(PXX)\n"
      ],
      "metadata": {
        "id": "zfLOnTYdjpte",
        "colab": {
          "base_uri": "https://localhost:8080/"
        },
        "outputId": "70171e35-1ed8-496c-ba40-7ecf81dbcc4f"
      },
      "execution_count": 10,
      "outputs": [
        {
          "output_type": "stream",
          "name": "stdout",
          "text": [
            "[[0. 0. 0. 0. 0. 0. 0.]\n",
            " [0. 0. 0. 0. 0. 0. 0.]\n",
            " [0. 0. 0. 0. 0. 0. 0.]\n",
            " [0. 0. 0. 0. 0. 0. 0.]\n",
            " [0. 0. 0. 0. 0. 0. 0.]\n",
            " [0. 0. 0. 0. 0. 0. 0.]\n",
            " [0. 0. 0. 0. 0. 0. 0.]\n",
            " [0. 0. 0. 0. 0. 0. 0.]\n",
            " [0. 0. 0. 0. 0. 0. 0.]\n",
            " [0. 0. 0. 0. 0. 0. 0.]\n",
            " [0. 0. 0. 0. 0. 0. 0.]\n",
            " [0. 0. 0. 0. 0. 0. 0.]\n",
            " [0. 0. 0. 0. 0. 0. 0.]\n",
            " [0. 0. 0. 0. 0. 0. 0.]\n",
            " [0. 0. 0. 0. 0. 0. 0.]\n",
            " [0. 0. 0. 0. 0. 0. 0.]\n",
            " [0. 0. 0. 0. 0. 0. 0.]\n",
            " [0. 0. 0. 0. 0. 0. 0.]\n",
            " [0. 0. 0. 0. 0. 0. 0.]\n",
            " [0. 0. 0. 0. 0. 0. 0.]\n",
            " [0. 0. 0. 0. 0. 0. 0.]\n",
            " [0. 0. 0. 0. 0. 0. 0.]\n",
            " [0. 0. 0. 0. 0. 0. 0.]\n",
            " [0. 0. 0. 0. 0. 0. 0.]\n",
            " [0. 0. 0. 0. 0. 0. 0.]\n",
            " [0. 0. 0. 0. 0. 0. 0.]\n",
            " [0. 0. 0. 0. 0. 0. 0.]\n",
            " [0. 0. 0. 0. 0. 0. 0.]\n",
            " [0. 0. 0. 0. 0. 0. 0.]\n",
            " [0. 0. 0. 0. 0. 0. 0.]\n",
            " [0. 0. 0. 0. 0. 0. 0.]\n",
            " [0. 0. 0. 0. 0. 0. 0.]\n",
            " [0. 0. 0. 0. 0. 0. 0.]\n",
            " [0. 0. 0. 0. 0. 0. 0.]\n",
            " [0. 0. 0. 0. 0. 0. 0.]\n",
            " [0. 0. 0. 0. 0. 0. 0.]]\n"
          ]
        }
      ]
    },
    {
      "cell_type": "code",
      "source": [
        "PXX.shape"
      ],
      "metadata": {
        "colab": {
          "base_uri": "https://localhost:8080/"
        },
        "id": "dDQlaUUQkEmV",
        "outputId": "962bd132-33c5-4aa0-d727-0767a3d24600"
      },
      "execution_count": 11,
      "outputs": [
        {
          "output_type": "execute_result",
          "data": {
            "text/plain": [
              "(36, 7)"
            ]
          },
          "metadata": {},
          "execution_count": 11
        }
      ]
    },
    {
      "cell_type": "code",
      "source": [
        "P01=P01*PYac\n",
        "P01[0]=PFronti\n",
        "PFrontd=P01[len(P01)-1]\n",
        "P0in=P01 #Condicion inicial \n",
        "Pdt=P01 #Vector de resultados dt\n",
        "t=DT #primera interaccion"
      ],
      "metadata": {
        "id": "AfQ32GDwkeaE"
      },
      "execution_count": 12,
      "outputs": []
    },
    {
      "cell_type": "code",
      "source": [
        "print(P01)\n"
      ],
      "metadata": {
        "colab": {
          "base_uri": "https://localhost:8080/"
        },
        "id": "ZShr5gJflYBp",
        "outputId": "7ebba168-8642-4b07-913d-1f4267452224"
      },
      "execution_count": 13,
      "outputs": [
        {
          "output_type": "stream",
          "name": "stdout",
          "text": [
            "[   0 4000 4000 4000 4000 4000    0]\n"
          ]
        }
      ]
    },
    {
      "cell_type": "code",
      "source": [
        "def Presdt(P1,P2,P3,deltat,deltax):\n",
        "  return(((P1-2*P2+P3)/(deltax*deltax))*deltat)+P2 "
      ],
      "metadata": {
        "id": "3PejT57ZlkY8"
      },
      "execution_count": 14,
      "outputs": []
    },
    {
      "cell_type": "code",
      "source": [
        "PXX[0]=P01\n",
        "while t<Tiempo:\n",
        "    for i in range(0,len(P0in)-1):\n",
        "      if i==0:\n",
        "        Pdt[i]=P0in[0]\n",
        "      elif i==len(P0in)-1:\n",
        "        Pdt[i]=P0in[len(P0in)-1]\n",
        "      else:\n",
        "        Pdt[i]=Presdt(P0in[i-1],P0in[i],P0in[i+1],DT,dx)\n",
        "    PXX[math.floor(t/DT)]=Pdt\n",
        "    t=t+DT\n",
        "    P0in=Pdt\n",
        "    P01=np.append(P01,Pdt)"
      ],
      "metadata": {
        "id": "2zQ9-fbZlvkh"
      },
      "execution_count": 15,
      "outputs": []
    },
    {
      "cell_type": "code",
      "source": [
        "PXX\n"
      ],
      "metadata": {
        "colab": {
          "base_uri": "https://localhost:8080/"
        },
        "id": "4xZpJWiLmAuN",
        "outputId": "7ddfabe7-fb9a-4e29-bcb5-f0b20bc732a6"
      },
      "execution_count": 16,
      "outputs": [
        {
          "output_type": "execute_result",
          "data": {
            "text/plain": [
              "array([[   0., 4000., 4000., 4000., 4000., 4000.,    0.],\n",
              "       [   0., 3999., 3999., 3999., 3999., 3998.,    0.],\n",
              "       [   0., 3998., 3998., 3998., 3998., 3997.,    0.],\n",
              "       [   0., 3997., 3997., 3997., 3997., 3996.,    0.],\n",
              "       [   0., 3996., 3996., 3996., 3996., 3995.,    0.],\n",
              "       [   0., 3995., 3995., 3995., 3995., 3994.,    0.],\n",
              "       [   0., 3994., 3994., 3994., 3994., 3993.,    0.],\n",
              "       [   0., 3993., 3993., 3993., 3993., 3992.,    0.],\n",
              "       [   0., 3992., 3992., 3992., 3992., 3991.,    0.],\n",
              "       [   0., 3991., 3991., 3991., 3991., 3990.,    0.],\n",
              "       [   0., 3990., 3990., 3990., 3990., 3989.,    0.],\n",
              "       [   0., 3989., 3989., 3989., 3989., 3988.,    0.],\n",
              "       [   0., 3988., 3988., 3988., 3988., 3987.,    0.],\n",
              "       [   0., 3987., 3987., 3987., 3987., 3986.,    0.],\n",
              "       [   0., 3986., 3986., 3986., 3986., 3985.,    0.],\n",
              "       [   0., 3985., 3985., 3985., 3985., 3984.,    0.],\n",
              "       [   0., 3984., 3984., 3984., 3984., 3983.,    0.],\n",
              "       [   0., 3983., 3983., 3983., 3983., 3982.,    0.],\n",
              "       [   0., 3982., 3982., 3982., 3982., 3981.,    0.],\n",
              "       [   0., 3981., 3981., 3981., 3981., 3980.,    0.],\n",
              "       [   0., 3980., 3980., 3980., 3980., 3979.,    0.],\n",
              "       [   0., 3979., 3979., 3979., 3979., 3978.,    0.],\n",
              "       [   0., 3978., 3978., 3978., 3978., 3977.,    0.],\n",
              "       [   0., 3977., 3977., 3977., 3977., 3976.,    0.],\n",
              "       [   0., 3976., 3976., 3976., 3976., 3975.,    0.],\n",
              "       [   0., 3975., 3975., 3975., 3975., 3974.,    0.],\n",
              "       [   0., 3974., 3974., 3974., 3974., 3973.,    0.],\n",
              "       [   0., 3973., 3973., 3973., 3973., 3972.,    0.],\n",
              "       [   0., 3972., 3972., 3972., 3972., 3971.,    0.],\n",
              "       [   0., 3971., 3971., 3971., 3971., 3970.,    0.],\n",
              "       [   0., 3970., 3970., 3970., 3970., 3969.,    0.],\n",
              "       [   0., 3969., 3969., 3969., 3969., 3968.,    0.],\n",
              "       [   0., 3968., 3968., 3968., 3968., 3967.,    0.],\n",
              "       [   0., 3967., 3967., 3967., 3967., 3966.,    0.],\n",
              "       [   0., 3966., 3966., 3966., 3966., 3965.,    0.],\n",
              "       [   0., 3965., 3965., 3965., 3965., 3964.,    0.]])"
            ]
          },
          "metadata": {},
          "execution_count": 16
        }
      ]
    },
    {
      "cell_type": "code",
      "source": [
        "PXX.shape"
      ],
      "metadata": {
        "colab": {
          "base_uri": "https://localhost:8080/"
        },
        "id": "jsmxOe4KmJUd",
        "outputId": "838b0182-c88a-4c07-dd53-12993cedd752"
      },
      "execution_count": 17,
      "outputs": [
        {
          "output_type": "execute_result",
          "data": {
            "text/plain": [
              "(36, 7)"
            ]
          },
          "metadata": {},
          "execution_count": 17
        }
      ]
    },
    {
      "cell_type": "code",
      "source": [
        "import matplotlib.pyplot as plt\n",
        "\n",
        "imgplot = plt.imshow(PXX,aspect='auto')\n",
        "plt.colorbar()"
      ],
      "metadata": {
        "colab": {
          "base_uri": "https://localhost:8080/",
          "height": 452
        },
        "id": "BfCuLy0jmVBs",
        "outputId": "6661b93f-decf-49a2-8f38-04b59212514c"
      },
      "execution_count": 18,
      "outputs": [
        {
          "output_type": "execute_result",
          "data": {
            "text/plain": [
              "<matplotlib.colorbar.Colorbar at 0x7fae292cb130>"
            ]
          },
          "metadata": {},
          "execution_count": 18
        },
        {
          "output_type": "display_data",
          "data": {
            "text/plain": [
              "<Figure size 640x480 with 2 Axes>"
            ],
            "image/png": "[encoded data removed]"
          },
          "metadata": {}
        }
      ]
    },
    {
      "cell_type": "code",
      "source": [
        "c = plt.pcolormesh(Distance,VectorTiempo,PXX)\n",
        "plt.colorbar(c)\n",
        " \n",
        "plt.title('Distribucion de Presiones', fontweight =\"bold\")\n",
        "plt.show()"
      ],
      "metadata": {
        "colab": {
          "base_uri": "https://localhost:8080/",
          "height": 452
        },
        "id": "cCLHqBLLmkQo",
        "outputId": "27e7c955-1b3b-4cf4-b57c-ac1d0aef9482"
      },
      "execution_count": 19,
      "outputs": [
        {
          "output_type": "display_data",
          "data": {
            "text/plain": [
              "<Figure size 640x480 with 2 Axes>"
            ],
            "image/png": "[encoded data removed]"
          },
          "metadata": {}
        }
      ]
    },
    {
      "cell_type": "code",
      "source": [],
      "metadata": {
        "id": "gLbge1M8mxv9"
      },
      "execution_count": null,
      "outputs": []
    }
  ]
}